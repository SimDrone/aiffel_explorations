{
 "cells": [
  {
   "cell_type": "markdown",
   "id": "98698564",
   "metadata": {},
   "source": [
    "### Step 1. 데이터 다운로드"
   ]
  },
  {
   "cell_type": "markdown",
   "id": "95a243b6",
   "metadata": {},
   "source": [
    "Cloud Shell 통해 ~/aiffel/lyricist/data/lyrics 경로에 데이터 두었음."
   ]
  },
  {
   "cell_type": "markdown",
   "id": "4f293934",
   "metadata": {},
   "source": [
    "### Step 2. 데이터 읽어오기"
   ]
  },
  {
   "cell_type": "code",
   "execution_count": 1,
   "id": "8d330b22",
   "metadata": {},
   "outputs": [
    {
     "name": "stdout",
     "output_type": "stream",
     "text": [
      "데이터 크기: 187088\n",
      "Examples:\n",
      " [\"Now I've heard there was a secret chord\", 'That David played, and it pleased the Lord', \"But you don't really care for music, do you?\"]\n"
     ]
    }
   ],
   "source": [
    "import glob\n",
    "import os\n",
    "import re\n",
    "import numpy as np\n",
    "import tensorflow as tf\n",
    "\n",
    "txt_file_path = os.getenv('HOME')+'/aiffel/lyricist/data/lyrics/*'\n",
    "\n",
    "txt_list = glob.glob(txt_file_path)\n",
    "\n",
    "raw_corpus = []\n",
    "\n",
    "# 여러개의 txt 파일을 모두 읽어서 raw_corpus 에 담습니다.\n",
    "for txt_file in txt_list:\n",
    "    with open(txt_file, \"r\") as f:\n",
    "        raw = f.read().splitlines()\n",
    "        raw_corpus.extend(raw)\n",
    "\n",
    "print(\"데이터 크기:\", len(raw_corpus))\n",
    "print(\"Examples:\\n\", raw_corpus[:3])"
   ]
  },
  {
   "cell_type": "markdown",
   "id": "6ecc37a7",
   "metadata": {},
   "source": [
    "### Step 3. 데이터 정제"
   ]
  },
  {
   "cell_type": "code",
   "execution_count": 2,
   "id": "aba285b7",
   "metadata": {},
   "outputs": [
    {
     "name": "stdout",
     "output_type": "stream",
     "text": [
      "Now I've heard there was a secret chord\n",
      "That David played, and it pleased the Lord\n",
      "But you don't really care for music, do you?\n",
      "It goes like this\n",
      "The fourth, the fifth\n",
      "The minor fall, the major lift\n",
      "The baffled king composing Hallelujah Hallelujah\n",
      "Hallelujah\n",
      "Hallelujah\n",
      "Hallelujah Your faith was strong but you needed proof\n"
     ]
    }
   ],
   "source": [
    "for idx, sentence in enumerate(raw_corpus):\n",
    "    if len(sentence) == 0: continue   # 길이가 0인 문장은 건너뛰기\n",
    "    if sentence[-1] == \":\": continue  # 문장의 끝이 : 인 문장은 건너뛰기.(화자가 표기된 문장)\n",
    "\n",
    "    if idx > 9: break   #문장 10개만 확인\n",
    "        \n",
    "    print(sentence)"
   ]
  },
  {
   "cell_type": "code",
   "execution_count": 3,
   "id": "0aefbf96",
   "metadata": {},
   "outputs": [
    {
     "name": "stdout",
     "output_type": "stream",
     "text": [
      "<start> this is sample sentence . <end>\n"
     ]
    }
   ],
   "source": [
    "def preprocess_sentence(sentence):\n",
    "    sentence = sentence.lower().strip() # 소문자변환, 양쪽 공백 제거\n",
    "    sentence = re.sub(r\"([?.!,¿])\", r\" \\1 \", sentence) # 특수문자 양쪽 공백 추가\n",
    "    sentence = re.sub(r'[\" \"]+', \" \", sentence) # 공백 여러개->한개로 변환\n",
    "    sentence = re.sub(r\"[^a-zA-Z?.!,¿]+\", \" \", sentence) # 해당하지 않는 모든 문자를 공백으로 바꿈\n",
    "    sentence = sentence.strip() #양쪽 공백 지움\n",
    "    sentence = '<start> ' + sentence + ' <end>' # 문장 시작과 끝에 <start>, <end> 각각 추가\n",
    "    return sentence\n",
    "\n",
    "print(preprocess_sentence(\"This @_is ;;;sample        sentence.\"))"
   ]
  },
  {
   "cell_type": "code",
   "execution_count": 4,
   "id": "bffc407a",
   "metadata": {},
   "outputs": [
    {
     "data": {
      "text/plain": [
       "['<start> hallelujah <end>',\n",
       " '<start> hallelujah <end>',\n",
       " '<start> she tied you <end>',\n",
       " '<start> hallelujah <end>',\n",
       " '<start> hallelujah <end>',\n",
       " '<start> in every word <end>',\n",
       " '<start> hallelujah <end>',\n",
       " '<start> hallelujah <end>',\n",
       " '<start> and even though <end>',\n",
       " '<start> hallelujah <end>']"
      ]
     },
     "execution_count": 4,
     "metadata": {},
     "output_type": "execute_result"
    }
   ],
   "source": [
    "# 여기에 정제된 문장을 모을 것\n",
    "corpus = []\n",
    "\n",
    "for sentence in raw_corpus:\n",
    "    # 원하지 않는 문장 건너뛰기\n",
    "    if len(sentence) == 0: continue\n",
    "    if len(sentence) > 15: continue #토큰 개수가 15개 이상이면 학습데이터에서 제외\n",
    "    if sentence[-1] == \":\": continue\n",
    "    \n",
    "    # 정제하고 담아주기\n",
    "    preprocessed_sentence = preprocess_sentence(sentence)\n",
    "    corpus.append(preprocessed_sentence)\n",
    "        \n",
    "# 정제결과 10개 확인\n",
    "corpus[:10]"
   ]
  },
  {
   "cell_type": "code",
   "execution_count": 5,
   "id": "b2f3e064",
   "metadata": {},
   "outputs": [
    {
     "name": "stdout",
     "output_type": "stream",
     "text": [
      "[[  2 162   3 ...   0   0   0]\n",
      " [  2 162   3 ...   0   0   0]\n",
      " [  2  56 881 ...   0   0   0]\n",
      " ...\n",
      " [  2 216 554 ...   0   0   0]\n",
      " [  2  60  17 ...   0   0   0]\n",
      " [  2  36  21 ...   0   0   0]] <keras_preprocessing.text.Tokenizer object at 0x7f307f48d940>\n"
     ]
    }
   ],
   "source": [
    "def tokenize(corpus):\n",
    "    # 12000단어를 기억할 수 있는 tokenizer 만들기\n",
    "    # 12000어에 포함되지 못한 단어는 '<unk>'로 바꿈\n",
    "    tokenizer = tf.keras.preprocessing.text.Tokenizer(\n",
    "        num_words=12000, \n",
    "        filters=' ',\n",
    "        oov_token=\"<unk>\"\n",
    "    )\n",
    "    # corpus를 이용해 tokenizer 내부 단어장 완성\n",
    "    tokenizer.fit_on_texts(corpus)\n",
    "    # 준비한 tokenizer를 이용해 corpus를 Tensor로 변환\n",
    "    tensor = tokenizer.texts_to_sequences(corpus)   \n",
    "    # 입력 데이터의 시퀀스 길이를 일정하게 맞춰주기\n",
    "    # 만약 시퀀스가 짧다면 문장 뒤에 패딩을 붙여 길이 맞춰주기\n",
    "    # 문장 앞에 패딩을 붙여 길이를 맞추고 싶다면 padding='pre'를 사용\n",
    "    tensor = tf.keras.preprocessing.sequence.pad_sequences(tensor, padding='post')  \n",
    "    \n",
    "    print(tensor,tokenizer)\n",
    "    return tensor, tokenizer\n",
    "\n",
    "tensor, tokenizer = tokenize(corpus)"
   ]
  },
  {
   "cell_type": "code",
   "execution_count": 6,
   "id": "5266f046",
   "metadata": {},
   "outputs": [],
   "source": [
    "src_input = tensor[:, :-1]\n",
    "tgt_input = tensor[:, 1:]"
   ]
  },
  {
   "cell_type": "code",
   "execution_count": 7,
   "id": "5115d5e4",
   "metadata": {},
   "outputs": [
    {
     "data": {
      "text/plain": [
       "<BatchDataset shapes: ((256, 12), (256, 12)), types: (tf.int32, tf.int32)>"
      ]
     },
     "execution_count": 7,
     "metadata": {},
     "output_type": "execute_result"
    }
   ],
   "source": [
    "BUFFER_SIZE = len(src_input)\n",
    "BATCH_SIZE = 256\n",
    "steps_per_epoch = len(src_input) // BATCH_SIZE\n",
    "\n",
    " # tokenizer가 구축한 단어사전 내 12000개와, 여기 포함되지 않은 0:<pad>를 포함하여 12001개\n",
    "VOCAB_SIZE = tokenizer.num_words + 1   \n",
    "\n",
    "# 준비한 데이터 소스로부터 데이터셋을 만들기\n",
    "dataset = tf.data.Dataset.from_tensor_slices((src_input, tgt_input))\n",
    "dataset = dataset.shuffle(BUFFER_SIZE)\n",
    "dataset = dataset.batch(BATCH_SIZE, drop_remainder=True)\n",
    "dataset"
   ]
  },
  {
   "cell_type": "markdown",
   "id": "d1d93fef",
   "metadata": {},
   "source": [
    "### Step 4. 평가 데이터셋 분리"
   ]
  },
  {
   "cell_type": "code",
   "execution_count": 8,
   "id": "7a6599b7",
   "metadata": {},
   "outputs": [],
   "source": [
    "from sklearn.model_selection import train_test_split\n",
    "enc_train, enc_val, dec_train, dec_val = train_test_split(src_input,tgt_input, \n",
    "                                                    test_size=0.2,\n",
    "                                                    shuffle=True,\n",
    "                                                    random_state=10)"
   ]
  },
  {
   "cell_type": "markdown",
   "id": "b4852b5e",
   "metadata": {},
   "source": [
    "### Step 5. 인공지능 만들기"
   ]
  },
  {
   "cell_type": "code",
   "execution_count": 9,
   "id": "38280538",
   "metadata": {},
   "outputs": [],
   "source": [
    "class TextGenerator(tf.keras.Model):\n",
    "    def __init__(self, vocab_size, embedding_size, hidden_size):\n",
    "        super().__init__()\n",
    "        \n",
    "        self.embedding = tf.keras.layers.Embedding(vocab_size, embedding_size)\n",
    "        self.rnn_1 = tf.keras.layers.LSTM(hidden_size, return_sequences=True)\n",
    "        self.rnn_2 = tf.keras.layers.LSTM(hidden_size, return_sequences=True)\n",
    "        self.linear = tf.keras.layers.Dense(vocab_size)\n",
    "        \n",
    "    def call(self, x):\n",
    "        out = self.embedding(x)\n",
    "        out = self.rnn_1(out)\n",
    "        out = self.rnn_2(out)\n",
    "        out = self.linear(out)\n",
    "        \n",
    "        return out\n",
    "    \n",
    "embedding_size = 256\n",
    "hidden_size = 1024\n",
    "lyricist = TextGenerator(tokenizer.num_words + 1, embedding_size , hidden_size)"
   ]
  },
  {
   "cell_type": "code",
   "execution_count": 10,
   "id": "ec2b785f",
   "metadata": {},
   "outputs": [
    {
     "data": {
      "text/plain": [
       "<tf.Tensor: shape=(256, 12, 12001), dtype=float32, numpy=\n",
       "array([[[ 1.43329544e-05, -3.20915206e-05, -2.48686527e-04, ...,\n",
       "          1.12780850e-04, -2.01628762e-04, -1.31755383e-04],\n",
       "        [ 1.12791684e-04, -3.89024732e-04, -4.39185882e-04, ...,\n",
       "          2.69203418e-04, -3.67890607e-04, -1.59288829e-04],\n",
       "        [ 1.80044619e-04, -1.00478542e-03, -5.10822516e-04, ...,\n",
       "          3.15218727e-04, -4.97448200e-04,  9.40282735e-06],\n",
       "        ...,\n",
       "        [ 1.10952661e-03, -1.16005365e-03,  8.27888798e-05, ...,\n",
       "         -2.49444973e-03, -1.75822363e-03, -1.62244588e-03],\n",
       "        [ 1.22946594e-03, -1.06495630e-03,  2.59604945e-04, ...,\n",
       "         -2.76751793e-03, -1.96622987e-03, -1.88925315e-03],\n",
       "        [ 1.33414532e-03, -9.69625486e-04,  4.27857391e-04, ...,\n",
       "         -2.99144699e-03, -2.16275291e-03, -2.14671949e-03]],\n",
       "\n",
       "       [[ 1.43329544e-05, -3.20915206e-05, -2.48686527e-04, ...,\n",
       "          1.12780850e-04, -2.01628762e-04, -1.31755383e-04],\n",
       "        [ 1.56271257e-04, -8.32891237e-05, -4.27325402e-04, ...,\n",
       "          3.31775576e-04, -3.06437927e-04, -2.27781900e-04],\n",
       "        [ 2.31629005e-04,  1.23091537e-04, -5.25703945e-04, ...,\n",
       "          2.39462301e-04, -5.03931427e-04, -1.47758212e-04],\n",
       "        ...,\n",
       "        [ 3.26153415e-04, -1.56552996e-04,  4.14382870e-04, ...,\n",
       "         -1.78346247e-03, -9.07631184e-04, -1.20042346e-03],\n",
       "        [ 4.81137919e-04, -2.23939904e-04,  4.46720427e-04, ...,\n",
       "         -2.13704631e-03, -1.14428648e-03, -1.46074977e-03],\n",
       "        [ 6.34808734e-04, -2.75196275e-04,  5.00712544e-04, ...,\n",
       "         -2.44245701e-03, -1.38868403e-03, -1.71222130e-03]],\n",
       "\n",
       "       [[ 1.43329544e-05, -3.20915206e-05, -2.48686527e-04, ...,\n",
       "          1.12780850e-04, -2.01628762e-04, -1.31755383e-04],\n",
       "        [ 9.04734989e-05,  1.17960526e-05, -4.77403009e-05, ...,\n",
       "          1.55486559e-04, -2.83995527e-04, -4.29151587e-05],\n",
       "        [ 3.03666948e-05,  4.44778416e-04,  2.97331717e-04, ...,\n",
       "          1.65956255e-04, -3.04627349e-04, -9.05205452e-05],\n",
       "        ...,\n",
       "        [ 5.55067731e-04, -6.79458550e-04,  5.71175537e-04, ...,\n",
       "         -2.37124856e-03, -8.86119669e-04, -1.01775781e-03],\n",
       "        [ 7.23673787e-04, -7.37019756e-04,  6.27485802e-04, ...,\n",
       "         -2.72039440e-03, -1.19794474e-03, -1.27136940e-03],\n",
       "        [ 8.75840895e-04, -7.57608155e-04,  7.06943625e-04, ...,\n",
       "         -3.00245616e-03, -1.50027685e-03, -1.52723782e-03]],\n",
       "\n",
       "       ...,\n",
       "\n",
       "       [[ 1.43329544e-05, -3.20915206e-05, -2.48686527e-04, ...,\n",
       "          1.12780850e-04, -2.01628762e-04, -1.31755383e-04],\n",
       "        [ 9.38739104e-05,  4.82566320e-05, -4.18018084e-04, ...,\n",
       "          2.64178729e-04, -2.17171750e-04, -1.68583996e-04],\n",
       "        [-4.03953418e-05,  1.06259467e-04, -3.52814968e-04, ...,\n",
       "          3.00139800e-04, -4.47730621e-04, -3.31722142e-04],\n",
       "        ...,\n",
       "        [-1.10972003e-04, -8.79629632e-04, -7.99190428e-04, ...,\n",
       "         -1.66221743e-03, -5.45239775e-04, -1.43456168e-03],\n",
       "        [ 4.63716096e-05, -9.37779434e-04, -7.07111671e-04, ...,\n",
       "         -2.17247009e-03, -6.91236055e-04, -1.67628017e-03],\n",
       "        [ 2.18809451e-04, -9.52673843e-04, -5.60053333e-04, ...,\n",
       "         -2.60336511e-03, -8.82803812e-04, -1.90223195e-03]],\n",
       "\n",
       "       [[ 1.43329544e-05, -3.20915206e-05, -2.48686527e-04, ...,\n",
       "          1.12780850e-04, -2.01628762e-04, -1.31755383e-04],\n",
       "        [-1.20373988e-04, -1.23951075e-04, -4.18915675e-04, ...,\n",
       "          6.80222365e-05,  3.20434469e-06, -1.58474912e-04],\n",
       "        [-1.96753012e-04,  2.74898193e-05, -5.14765852e-04, ...,\n",
       "         -1.45799349e-04, -3.01019008e-05, -8.62073066e-05],\n",
       "        ...,\n",
       "        [ 5.15294902e-04, -5.12572296e-04, -8.68075294e-05, ...,\n",
       "         -2.42848857e-03, -1.06395513e-03, -8.68594041e-04],\n",
       "        [ 6.58532197e-04, -5.44866431e-04,  5.81640561e-05, ...,\n",
       "         -2.74813711e-03, -1.34637672e-03, -1.20638544e-03],\n",
       "        [ 7.99178728e-04, -5.56452142e-04,  2.05267381e-04, ...,\n",
       "         -3.01064970e-03, -1.61761488e-03, -1.52801303e-03]],\n",
       "\n",
       "       [[ 1.43329544e-05, -3.20915206e-05, -2.48686527e-04, ...,\n",
       "          1.12780850e-04, -2.01628762e-04, -1.31755383e-04],\n",
       "        [-8.04834781e-05, -2.20530404e-04, -2.97443243e-04, ...,\n",
       "          1.19823890e-04, -4.22597688e-04, -4.16962794e-05],\n",
       "        [-1.30176748e-04, -7.26477825e-04, -2.59845547e-04, ...,\n",
       "          7.82070056e-05, -5.40612207e-04,  2.02472293e-04],\n",
       "        ...,\n",
       "        [ 7.89688318e-04, -9.48417932e-04,  3.37075500e-04, ...,\n",
       "         -2.63982080e-03, -1.67052110e-03, -1.50656118e-03],\n",
       "        [ 9.40895057e-04, -8.82008171e-04,  4.72683052e-04, ...,\n",
       "         -2.88188737e-03, -1.88583031e-03, -1.79495057e-03],\n",
       "        [ 1.07639562e-03, -8.11472361e-04,  6.01801672e-04, ...,\n",
       "         -3.07814335e-03, -2.09142640e-03, -2.07058573e-03]]],\n",
       "      dtype=float32)>"
      ]
     },
     "execution_count": 10,
     "metadata": {},
     "output_type": "execute_result"
    }
   ],
   "source": [
    "# 데이터셋에서 데이터 한 배치만 불러오기\n",
    "for src_sample, tgt_sample in dataset.take(1): break\n",
    "\n",
    "# 불러온 데이터를 모델에 넣어보기\n",
    "lyricist(src_sample)"
   ]
  },
  {
   "cell_type": "code",
   "execution_count": 11,
   "id": "425929d6",
   "metadata": {},
   "outputs": [
    {
     "name": "stdout",
     "output_type": "stream",
     "text": [
      "Model: \"text_generator\"\n",
      "_________________________________________________________________\n",
      "Layer (type)                 Output Shape              Param #   \n",
      "=================================================================\n",
      "embedding (Embedding)        multiple                  3072256   \n",
      "_________________________________________________________________\n",
      "lstm (LSTM)                  multiple                  5246976   \n",
      "_________________________________________________________________\n",
      "lstm_1 (LSTM)                multiple                  8392704   \n",
      "_________________________________________________________________\n",
      "dense (Dense)                multiple                  12301025  \n",
      "=================================================================\n",
      "Total params: 29,012,961\n",
      "Trainable params: 29,012,961\n",
      "Non-trainable params: 0\n",
      "_________________________________________________________________\n"
     ]
    }
   ],
   "source": [
    "lyricist.summary()\n",
    "#우리 모델은 입력 시퀀스의 길이를 모르기 때문에 output shape를 특정할 수 없다."
   ]
  },
  {
   "cell_type": "code",
   "execution_count": 12,
   "id": "32582ab1",
   "metadata": {},
   "outputs": [
    {
     "name": "stdout",
     "output_type": "stream",
     "text": [
      "Epoch 1/10\n",
      "55/55 [==============================] - 10s 152ms/step - loss: 2.8003\n",
      "Epoch 2/10\n",
      "55/55 [==============================] - 9s 159ms/step - loss: 1.6483\n",
      "Epoch 3/10\n",
      "55/55 [==============================] - 9s 154ms/step - loss: 1.4503\n",
      "Epoch 4/10\n",
      "55/55 [==============================] - 8s 149ms/step - loss: 1.3967\n",
      "Epoch 5/10\n",
      "55/55 [==============================] - 8s 145ms/step - loss: 1.3682\n",
      "Epoch 6/10\n",
      "55/55 [==============================] - 8s 143ms/step - loss: 1.3471\n",
      "Epoch 7/10\n",
      "55/55 [==============================] - 8s 142ms/step - loss: 1.3240\n",
      "Epoch 8/10\n",
      "55/55 [==============================] - 8s 142ms/step - loss: 1.2968\n",
      "Epoch 9/10\n",
      "55/55 [==============================] - 8s 144ms/step - loss: 1.2699\n",
      "Epoch 10/10\n",
      "55/55 [==============================] - 8s 145ms/step - loss: 1.2402\n"
     ]
    },
    {
     "data": {
      "text/plain": [
       "<keras.callbacks.History at 0x7f2fb9b47190>"
      ]
     },
     "execution_count": 12,
     "metadata": {},
     "output_type": "execute_result"
    }
   ],
   "source": [
    "optimizer = tf.keras.optimizers.Adam()\n",
    "loss = tf.keras.losses.SparseCategoricalCrossentropy(\n",
    "    from_logits=True, reduction='none')\n",
    "\n",
    "lyricist.compile(loss=loss, optimizer=optimizer)\n",
    "lyricist.fit(dataset, epochs=10)"
   ]
  },
  {
   "cell_type": "markdown",
   "id": "e3f63e70",
   "metadata": {},
   "source": [
    "### Step 5. 인공지능 만들기"
   ]
  },
  {
   "cell_type": "code",
   "execution_count": 13,
   "id": "89ee60fe",
   "metadata": {},
   "outputs": [],
   "source": [
    "def generate_text(lyricist, tokenizer, init_sentence=\"<start>\", max_len=20):\n",
    "    # 테스트를 위해서 입력받은 init_sentence도 텐서로 변환합니다\n",
    "    test_input = tokenizer.texts_to_sequences([init_sentence])\n",
    "    test_tensor = tf.convert_to_tensor(test_input, dtype=tf.int64)\n",
    "    end_token = tokenizer.word_index[\"<end>\"]\n",
    "\n",
    "    # 단어 하나씩 예측해 문장을 만듭니다\n",
    "    #    1. 입력받은 문장의 텐서를 입력합니다\n",
    "    #    2. 예측된 값 중 가장 높은 확률인 word index를 뽑아냅니다\n",
    "    #    3. 2에서 예측된 word index를 문장 뒤에 붙입니다\n",
    "    #    4. 모델이 <end>를 예측했거나, max_len에 도달했다면 문장 생성을 마칩니다\n",
    "    while True:\n",
    "        # 1\n",
    "        predict = lyricist(test_tensor) \n",
    "        # 2\n",
    "        predict_word = tf.argmax(tf.nn.softmax(predict, axis=-1), axis=-1)[:, -1] \n",
    "        # 3 \n",
    "        test_tensor = tf.concat([test_tensor, tf.expand_dims(predict_word, axis=0)], axis=-1)\n",
    "        # 4\n",
    "        if predict_word.numpy()[0] == end_token: break\n",
    "        if test_tensor.shape[1] >= max_len: break\n",
    "\n",
    "    generated = \"\"\n",
    "    # tokenizer를 이용해 word index를 단어로 하나씩 변환합니다 \n",
    "    for word_index in test_tensor[0].numpy():\n",
    "        generated += tokenizer.index_word[word_index] + \" \"\n",
    "\n",
    "    return generated"
   ]
  },
  {
   "cell_type": "code",
   "execution_count": 15,
   "id": "37732764",
   "metadata": {},
   "outputs": [
    {
     "data": {
      "text/plain": [
       "'<start> i love it <end> '"
      ]
     },
     "execution_count": 15,
     "metadata": {},
     "output_type": "execute_result"
    }
   ],
   "source": [
    "generate_text(lyricist, tokenizer, init_sentence=\"<start> i love\", max_len=20)"
   ]
  },
  {
   "cell_type": "markdown",
   "id": "2e5f391f",
   "metadata": {},
   "source": [
    "간결하고 임팩트있는 한 문장이 나왔습니다."
   ]
  },
  {
   "cell_type": "code",
   "execution_count": null,
   "id": "afb21851",
   "metadata": {},
   "outputs": [],
   "source": []
  }
 ],
 "metadata": {
  "kernelspec": {
   "display_name": "Python 3 (ipykernel)",
   "language": "python",
   "name": "python3"
  },
  "language_info": {
   "codemirror_mode": {
    "name": "ipython",
    "version": 3
   },
   "file_extension": ".py",
   "mimetype": "text/x-python",
   "name": "python",
   "nbconvert_exporter": "python",
   "pygments_lexer": "ipython3",
   "version": "3.9.7"
  }
 },
 "nbformat": 4,
 "nbformat_minor": 5
}

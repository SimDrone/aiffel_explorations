{
 "cells": [
  {
   "cell_type": "markdown",
   "id": "2ed5ceee",
   "metadata": {},
   "source": [
    "### 1. 데이터 준비와 확인"
   ]
  },
  {
   "cell_type": "code",
   "execution_count": 1,
   "id": "96b65b8c",
   "metadata": {},
   "outputs": [],
   "source": [
    "import pandas as pd\n",
    "import tensorflow as tf\n",
    "import urllib.request\n",
    "%matplotlib inline\n",
    "import matplotlib.pyplot as plt\n",
    "import re\n",
    "from tensorflow import keras\n",
    "from tensorflow.keras.preprocessing.text import Tokenizer\n",
    "import numpy as np\n",
    "from tensorflow.keras.preprocessing.sequence import pad_sequences\n",
    "from collections import Counter\n",
    "from konlpy.tag import Mecab\n",
    "import os\n",
    "from gensim.models.keyedvectors import Word2VecKeyedVectors"
   ]
  },
  {
   "cell_type": "code",
   "execution_count": 2,
   "id": "057cc14e",
   "metadata": {},
   "outputs": [
    {
     "data": {
      "text/html": [
       "<div>\n",
       "<style scoped>\n",
       "    .dataframe tbody tr th:only-of-type {\n",
       "        vertical-align: middle;\n",
       "    }\n",
       "\n",
       "    .dataframe tbody tr th {\n",
       "        vertical-align: top;\n",
       "    }\n",
       "\n",
       "    .dataframe thead th {\n",
       "        text-align: right;\n",
       "    }\n",
       "</style>\n",
       "<table border=\"1\" class=\"dataframe\">\n",
       "  <thead>\n",
       "    <tr style=\"text-align: right;\">\n",
       "      <th></th>\n",
       "      <th>id</th>\n",
       "      <th>document</th>\n",
       "      <th>label</th>\n",
       "    </tr>\n",
       "  </thead>\n",
       "  <tbody>\n",
       "    <tr>\n",
       "      <th>0</th>\n",
       "      <td>9976970</td>\n",
       "      <td>아 더빙.. 진짜 짜증나네요 목소리</td>\n",
       "      <td>0</td>\n",
       "    </tr>\n",
       "    <tr>\n",
       "      <th>1</th>\n",
       "      <td>3819312</td>\n",
       "      <td>흠...포스터보고 초딩영화줄....오버연기조차 가볍지 않구나</td>\n",
       "      <td>1</td>\n",
       "    </tr>\n",
       "    <tr>\n",
       "      <th>2</th>\n",
       "      <td>10265843</td>\n",
       "      <td>너무재밓었다그래서보는것을추천한다</td>\n",
       "      <td>0</td>\n",
       "    </tr>\n",
       "    <tr>\n",
       "      <th>3</th>\n",
       "      <td>9045019</td>\n",
       "      <td>교도소 이야기구먼 ..솔직히 재미는 없다..평점 조정</td>\n",
       "      <td>0</td>\n",
       "    </tr>\n",
       "    <tr>\n",
       "      <th>4</th>\n",
       "      <td>6483659</td>\n",
       "      <td>사이몬페그의 익살스런 연기가 돋보였던 영화!스파이더맨에서 늙어보이기만 했던 커스틴 ...</td>\n",
       "      <td>1</td>\n",
       "    </tr>\n",
       "  </tbody>\n",
       "</table>\n",
       "</div>"
      ],
      "text/plain": [
       "         id                                           document  label\n",
       "0   9976970                                아 더빙.. 진짜 짜증나네요 목소리      0\n",
       "1   3819312                  흠...포스터보고 초딩영화줄....오버연기조차 가볍지 않구나      1\n",
       "2  10265843                                  너무재밓었다그래서보는것을추천한다      0\n",
       "3   9045019                      교도소 이야기구먼 ..솔직히 재미는 없다..평점 조정      0\n",
       "4   6483659  사이몬페그의 익살스런 연기가 돋보였던 영화!스파이더맨에서 늙어보이기만 했던 커스틴 ...      1"
      ]
     },
     "execution_count": 2,
     "metadata": {},
     "output_type": "execute_result"
    }
   ],
   "source": [
    "# 데이터 읽기\n",
    "train_data = pd.read_table('~/aiffel/sentiment_classification/data/ratings_train.txt')\n",
    "test_data = pd.read_table('~/aiffel/sentiment_classification/data/ratings_test.txt')\n",
    "\n",
    "train_data.head()"
   ]
  },
  {
   "cell_type": "markdown",
   "id": "d64694f6",
   "metadata": {},
   "source": [
    "### 2. 데이터로더 구성"
   ]
  },
  {
   "cell_type": "code",
   "execution_count": 3,
   "id": "0ba0c47f",
   "metadata": {},
   "outputs": [],
   "source": [
    "tokenizer = Mecab()\n",
    "stopwords = ['의','가','이','은','들','는','좀','잘','걍','과','도','를','으로','자','에','와','한','하다']\n",
    "\n",
    "def load_data(train_data, test_data, num_words=10000):\n",
    "    train_data.drop_duplicates(subset=['document'], inplace=True)\n",
    "    train_data = train_data.dropna(how = 'any') \n",
    "    test_data.drop_duplicates(subset=['document'], inplace=True)\n",
    "    test_data = test_data.dropna(how = 'any') \n",
    "    \n",
    "    X_train = []\n",
    "    for sentence in train_data['document']:\n",
    "        temp_X = tokenizer.morphs(sentence) # 토큰화\n",
    "        temp_X = [word for word in temp_X if not word in stopwords] # 불용어 제거\n",
    "        X_train.append(temp_X)\n",
    "\n",
    "    X_test = []\n",
    "    for sentence in test_data['document']:\n",
    "        temp_X = tokenizer.morphs(sentence) # 토큰화\n",
    "        temp_X = [word for word in temp_X if not word in stopwords] # 불용어 제거\n",
    "        X_test.append(temp_X)\n",
    "    \n",
    "    words = np.concatenate(X_train).tolist()\n",
    "    counter = Counter(words)\n",
    "    counter = counter.most_common(10000-4)\n",
    "    vocab = ['<PAD>', '<BOS>', '<UNK>', '<UNUSED>'] + [key for key, _ in counter]\n",
    "    word_to_index = {word:index for index, word in enumerate(vocab)}\n",
    "        \n",
    "    def wordlist_to_indexlist(wordlist):\n",
    "        return [word_to_index[word] if word in word_to_index else word_to_index['<UNK>'] for word in wordlist]\n",
    "        \n",
    "    X_train = list(map(wordlist_to_indexlist, X_train))\n",
    "    X_test = list(map(wordlist_to_indexlist, X_test))\n",
    "        \n",
    "    return X_train, np.array(list(train_data['label'])), X_test, np.array(list(test_data['label'])), word_to_index\n",
    "    \n",
    "X_train, y_train, X_test, y_test, word_to_index = load_data(train_data, test_data) "
   ]
  },
  {
   "cell_type": "code",
   "execution_count": 4,
   "id": "9ac80122",
   "metadata": {},
   "outputs": [],
   "source": [
    "index_to_word = {index: word for word, index in word_to_index.items()}"
   ]
  },
  {
   "cell_type": "code",
   "execution_count": 5,
   "id": "8b7376ee",
   "metadata": {},
   "outputs": [],
   "source": [
    "# 문장 1개와 활용할 딕셔너리를 주었을 때 단어 인덱스 리스트 벡터로 변환해줌. 모든 문장은 <BOS>로 시작.\n",
    "def get_encoded_sentence(sentence, word_to_index):\n",
    "    return [word_to_index['<BOS>']]+[word_to_index[word] if word in word_to_index else word_to_index['<UNK>'] for word in sentence.split()]\n",
    "\n",
    "# 여러 문장 리스트를 한꺼번에 단어 인덱스 리스트 벡터로 encode\n",
    "def get_encoded_sentences(sentences, word_to_index):\n",
    "    return [get_encoded_sentence(sentence, word_to_index) for sentence in sentences]\n",
    "\n",
    "# 숫제 벡터로 encode된 문장을 decode\n",
    "def get_decoded_sentence(encoded_sentence, index_to_word):\n",
    "    return ' '.join(index_to_word[index] if index in index_to_word else '<UNK>' for index in encoded_sentence[1:])  #[1:]를 통해 <BOS>를 제외\n",
    "\n",
    "# 여러 숫자 벡터로 encode된 문장을 한꺼번에 decode\n",
    "def get_decoded_sentences(encoded_sentences, index_to_word):\n",
    "    return [get_decoded_sentence(encoded_sentence, index_to_word) for encoded_sentence in encoded_sentences]"
   ]
  },
  {
   "cell_type": "markdown",
   "id": "62b4d46d",
   "metadata": {},
   "source": [
    "### 3. 모델 구성을 위한 데이터 분석 및 가공"
   ]
  },
  {
   "cell_type": "code",
   "execution_count": 6,
   "id": "780b5fc7",
   "metadata": {},
   "outputs": [
    {
     "name": "stdout",
     "output_type": "stream",
     "text": [
      "문장길이 평균 :  15.96940191154864\n",
      "문장길이 최대 :  116\n",
      "문장길이 표준편차 :  12.843571191092\n",
      "pad_sequences maxlen :  41\n",
      "전체 문장의 0.9342988343341575%가 maxlen 설정값 이내에 포함됩니다. \n"
     ]
    }
   ],
   "source": [
    "total_data_text = list(X_train) + list(X_test)\n",
    "# 텍스트데이터 문장길이 리스트 생성\n",
    "num_tokens = [len(tokens) for tokens in total_data_text]\n",
    "num_tokens = np.array(num_tokens)\n",
    "# 문장길이, 최대길이, 표준편차\n",
    "print('문장길이 평균 : ', np.mean(num_tokens))\n",
    "print('문장길이 최대 : ', np.max(num_tokens))\n",
    "print('문장길이 표준편차 : ', np.std(num_tokens))\n",
    "# 최대길이 = 평균 + 2*표준편차\n",
    "max_tokens = np.mean(num_tokens) + 2*np.std(num_tokens)\n",
    "maxlen = int(max_tokens)\n",
    "print('pad_sequences maxlen : ', maxlen)\n",
    "print('전체 문장의 {}%가 maxlen 설정값 이내에 포함됩니다. '.format(np.sum(num_tokens < max_tokens) / len(num_tokens)))"
   ]
  },
  {
   "cell_type": "code",
   "execution_count": 7,
   "id": "2419e90d",
   "metadata": {},
   "outputs": [
    {
     "name": "stdout",
     "output_type": "stream",
     "text": [
      "(146182, 41)\n"
     ]
    }
   ],
   "source": [
    "# padding 추가\n",
    "X_train = keras.preprocessing.sequence.pad_sequences(X_train, padding='pre', \n",
    "                                                        maxlen=maxlen)\n",
    "X_test = keras.preprocessing.sequence.pad_sequences(X_test,\n",
    "                                                       value=word_to_index[\"<PAD>\"],\n",
    "                                                       padding='pre', # 혹은 'pre'\n",
    "                                                       maxlen=maxlen)\n",
    "print(X_train.shape)"
   ]
  },
  {
   "cell_type": "markdown",
   "id": "380380fe",
   "metadata": {},
   "source": [
    "### 4. 모델 구성 및 validation set 구성"
   ]
  },
  {
   "cell_type": "code",
   "execution_count": 8,
   "id": "a62a38e0",
   "metadata": {},
   "outputs": [],
   "source": [
    "vocab_size = len(index_to_word)  # 어휘 사전의 크기\n",
    "word_vector_dim = 300"
   ]
  },
  {
   "cell_type": "markdown",
   "id": "ba345521",
   "metadata": {},
   "source": [
    "#### (1) RNN"
   ]
  },
  {
   "cell_type": "code",
   "execution_count": 9,
   "id": "c07202dc",
   "metadata": {},
   "outputs": [
    {
     "name": "stdout",
     "output_type": "stream",
     "text": [
      "Model: \"sequential\"\n",
      "_________________________________________________________________\n",
      "Layer (type)                 Output Shape              Param #   \n",
      "=================================================================\n",
      "embedding (Embedding)        (None, None, 300)         3000000   \n",
      "_________________________________________________________________\n",
      "lstm (LSTM)                  (None, 16)                20288     \n",
      "_________________________________________________________________\n",
      "dense (Dense)                (None, 8)                 136       \n",
      "_________________________________________________________________\n",
      "dense_1 (Dense)              (None, 1)                 9         \n",
      "=================================================================\n",
      "Total params: 3,020,433\n",
      "Trainable params: 3,020,433\n",
      "Non-trainable params: 0\n",
      "_________________________________________________________________\n"
     ]
    }
   ],
   "source": [
    "model1 = keras.Sequential()\n",
    "model1.add(keras.layers.Embedding(vocab_size, word_vector_dim, input_shape=(None,)))\n",
    "model1.add(keras.layers.LSTM(16))  \n",
    "model1.add(keras.layers.Dense(8, activation='relu'))\n",
    "model1.add(keras.layers.Dense(1, activation='sigmoid'))\n",
    "\n",
    "model1.summary()"
   ]
  },
  {
   "cell_type": "markdown",
   "id": "acb73299",
   "metadata": {},
   "source": [
    "#### (2) 1-D CNN"
   ]
  },
  {
   "cell_type": "code",
   "execution_count": 10,
   "id": "62d286fa",
   "metadata": {},
   "outputs": [
    {
     "name": "stdout",
     "output_type": "stream",
     "text": [
      "Model: \"sequential_1\"\n",
      "_________________________________________________________________\n",
      "Layer (type)                 Output Shape              Param #   \n",
      "=================================================================\n",
      "embedding_1 (Embedding)      (None, None, 300)         3000000   \n",
      "_________________________________________________________________\n",
      "conv1d (Conv1D)              (None, None, 16)          33616     \n",
      "_________________________________________________________________\n",
      "max_pooling1d (MaxPooling1D) (None, None, 16)          0         \n",
      "_________________________________________________________________\n",
      "conv1d_1 (Conv1D)            (None, None, 16)          1808      \n",
      "_________________________________________________________________\n",
      "global_max_pooling1d (Global (None, 16)                0         \n",
      "_________________________________________________________________\n",
      "dense_2 (Dense)              (None, 8)                 136       \n",
      "_________________________________________________________________\n",
      "dense_3 (Dense)              (None, 1)                 9         \n",
      "=================================================================\n",
      "Total params: 3,035,569\n",
      "Trainable params: 3,035,569\n",
      "Non-trainable params: 0\n",
      "_________________________________________________________________\n"
     ]
    }
   ],
   "source": [
    "model2 = keras.Sequential()\n",
    "model2.add(keras.layers.Embedding(vocab_size, word_vector_dim, input_shape=(None,)))\n",
    "model2.add(keras.layers.Conv1D(16, 7, activation='relu'))\n",
    "model2.add(keras.layers.MaxPooling1D(5))\n",
    "model2.add(keras.layers.Conv1D(16, 7, activation='relu'))\n",
    "model2.add(keras.layers.GlobalMaxPooling1D())\n",
    "model2.add(keras.layers.Dense(8, activation='relu'))\n",
    "model2.add(keras.layers.Dense(1, activation='sigmoid'))\n",
    "\n",
    "model2.summary()"
   ]
  },
  {
   "cell_type": "markdown",
   "id": "da7be6dc",
   "metadata": {},
   "source": [
    "#### (3) GlobalMaxPooling1D"
   ]
  },
  {
   "cell_type": "code",
   "execution_count": 11,
   "id": "7236e716",
   "metadata": {},
   "outputs": [
    {
     "name": "stdout",
     "output_type": "stream",
     "text": [
      "Model: \"sequential_2\"\n",
      "_________________________________________________________________\n",
      "Layer (type)                 Output Shape              Param #   \n",
      "=================================================================\n",
      "embedding_2 (Embedding)      (None, None, 300)         3000000   \n",
      "_________________________________________________________________\n",
      "global_max_pooling1d_1 (Glob (None, 300)               0         \n",
      "_________________________________________________________________\n",
      "dense_4 (Dense)              (None, 8)                 2408      \n",
      "_________________________________________________________________\n",
      "dense_5 (Dense)              (None, 1)                 9         \n",
      "=================================================================\n",
      "Total params: 3,002,417\n",
      "Trainable params: 3,002,417\n",
      "Non-trainable params: 0\n",
      "_________________________________________________________________\n"
     ]
    }
   ],
   "source": [
    "model3 = keras.Sequential()\n",
    "model3.add(keras.layers.Embedding(vocab_size, word_vector_dim, input_shape=(None,)))\n",
    "model3.add(keras.layers.GlobalMaxPooling1D())\n",
    "model3.add(keras.layers.Dense(8, activation='relu'))\n",
    "model3.add(keras.layers.Dense(1, activation='sigmoid'))  \n",
    "\n",
    "model3.summary()"
   ]
  },
  {
   "cell_type": "markdown",
   "id": "537d9a4e",
   "metadata": {},
   "source": [
    "#### validation set 구성하기"
   ]
  },
  {
   "cell_type": "code",
   "execution_count": 12,
   "id": "dbd6f5a2",
   "metadata": {},
   "outputs": [
    {
     "name": "stdout",
     "output_type": "stream",
     "text": [
      "(117182, 41)\n",
      "(117182,)\n"
     ]
    }
   ],
   "source": [
    "X_val = X_train[:29000]   \n",
    "y_val = y_train[:29000]\n",
    "\n",
    "# validation set을 제외한 나머지\n",
    "partial_X_train = X_train[29000:]  \n",
    "partial_y_train = y_train[29000:]\n",
    "\n",
    "print(partial_X_train.shape)\n",
    "print(partial_y_train.shape)"
   ]
  },
  {
   "cell_type": "markdown",
   "id": "d16d89a3",
   "metadata": {},
   "source": [
    "### 5. 모델 훈련 개시"
   ]
  },
  {
   "cell_type": "markdown",
   "id": "47f9a081",
   "metadata": {},
   "source": [
    "#### (1) RNN"
   ]
  },
  {
   "cell_type": "code",
   "execution_count": 13,
   "id": "f710e345",
   "metadata": {},
   "outputs": [
    {
     "name": "stdout",
     "output_type": "stream",
     "text": [
      "Epoch 1/20\n",
      "229/229 [==============================] - 5s 9ms/step - loss: 0.4257 - accuracy: 0.8111 - val_loss: 0.3436 - val_accuracy: 0.8521\n",
      "Epoch 2/20\n",
      "229/229 [==============================] - 2s 7ms/step - loss: 0.3161 - accuracy: 0.8669 - val_loss: 0.3323 - val_accuracy: 0.8561\n",
      "Epoch 3/20\n",
      "229/229 [==============================] - 2s 7ms/step - loss: 0.2784 - accuracy: 0.8834 - val_loss: 0.3335 - val_accuracy: 0.8569\n",
      "Epoch 4/20\n",
      "229/229 [==============================] - 2s 7ms/step - loss: 0.2453 - accuracy: 0.8985 - val_loss: 0.3393 - val_accuracy: 0.8572\n",
      "Epoch 5/20\n",
      "229/229 [==============================] - 2s 7ms/step - loss: 0.2171 - accuracy: 0.9118 - val_loss: 0.3566 - val_accuracy: 0.8558\n",
      "Epoch 6/20\n",
      "229/229 [==============================] - 2s 7ms/step - loss: 0.1919 - accuracy: 0.9229 - val_loss: 0.3879 - val_accuracy: 0.8516\n",
      "Epoch 7/20\n",
      "229/229 [==============================] - 2s 7ms/step - loss: 0.1709 - accuracy: 0.9332 - val_loss: 0.4232 - val_accuracy: 0.8528\n",
      "Epoch 8/20\n",
      "229/229 [==============================] - 2s 7ms/step - loss: 0.1530 - accuracy: 0.9409 - val_loss: 0.4608 - val_accuracy: 0.8489\n",
      "Epoch 9/20\n",
      "229/229 [==============================] - 2s 7ms/step - loss: 0.1372 - accuracy: 0.9478 - val_loss: 0.4795 - val_accuracy: 0.8460\n",
      "Epoch 10/20\n",
      "229/229 [==============================] - 2s 7ms/step - loss: 0.1186 - accuracy: 0.9561 - val_loss: 0.5171 - val_accuracy: 0.8448\n",
      "Epoch 11/20\n",
      "229/229 [==============================] - 2s 7ms/step - loss: 0.1069 - accuracy: 0.9609 - val_loss: 0.5614 - val_accuracy: 0.8437\n",
      "Epoch 12/20\n",
      "229/229 [==============================] - 2s 7ms/step - loss: 0.0968 - accuracy: 0.9657 - val_loss: 0.6059 - val_accuracy: 0.8434\n",
      "Epoch 13/20\n",
      "229/229 [==============================] - 2s 7ms/step - loss: 0.0900 - accuracy: 0.9676 - val_loss: 0.6135 - val_accuracy: 0.8414\n",
      "Epoch 14/20\n",
      "229/229 [==============================] - 2s 7ms/step - loss: 0.0794 - accuracy: 0.9717 - val_loss: 0.6696 - val_accuracy: 0.8429\n",
      "Epoch 15/20\n",
      "229/229 [==============================] - 2s 7ms/step - loss: 0.0703 - accuracy: 0.9753 - val_loss: 0.6985 - val_accuracy: 0.8430\n",
      "Epoch 16/20\n",
      "229/229 [==============================] - 2s 7ms/step - loss: 0.0661 - accuracy: 0.9775 - val_loss: 0.7606 - val_accuracy: 0.8395\n",
      "Epoch 17/20\n",
      "229/229 [==============================] - 2s 7ms/step - loss: 0.0586 - accuracy: 0.9799 - val_loss: 0.7725 - val_accuracy: 0.8390\n",
      "Epoch 18/20\n",
      "229/229 [==============================] - 2s 8ms/step - loss: 0.0560 - accuracy: 0.9808 - val_loss: 0.8046 - val_accuracy: 0.8357\n",
      "Epoch 19/20\n",
      "229/229 [==============================] - 2s 7ms/step - loss: 0.0537 - accuracy: 0.9812 - val_loss: 0.8144 - val_accuracy: 0.8353\n",
      "Epoch 20/20\n",
      "229/229 [==============================] - 2s 7ms/step - loss: 0.0501 - accuracy: 0.9825 - val_loss: 0.8789 - val_accuracy: 0.8378\n",
      "1537/1537 - 3s - loss: 0.8855 - accuracy: 0.8354\n",
      "[0.8855177760124207, 0.8353846073150635]\n"
     ]
    }
   ],
   "source": [
    "model1.compile(optimizer='adam',\n",
    "              loss='binary_crossentropy',\n",
    "              metrics=['accuracy'])\n",
    "              \n",
    "epochs=20\n",
    "\n",
    "history1 = model1.fit(partial_X_train,\n",
    "                    partial_y_train,\n",
    "                    epochs=epochs,\n",
    "                    batch_size=512,\n",
    "                    validation_data=(X_val, y_val),\n",
    "                    verbose=1)\n",
    "\n",
    "result = model1.evaluate(X_test,  y_test, verbose=2)\n",
    "\n",
    "print(result)"
   ]
  },
  {
   "cell_type": "markdown",
   "id": "e9497266",
   "metadata": {},
   "source": [
    "#### (2) 1-D CNN"
   ]
  },
  {
   "cell_type": "code",
   "execution_count": 14,
   "id": "44f02509",
   "metadata": {},
   "outputs": [
    {
     "name": "stdout",
     "output_type": "stream",
     "text": [
      "Epoch 1/20\n",
      "229/229 [==============================] - 4s 10ms/step - loss: 0.4292 - accuracy: 0.7964 - val_loss: 0.3379 - val_accuracy: 0.8522\n",
      "Epoch 2/20\n",
      "229/229 [==============================] - 2s 8ms/step - loss: 0.2905 - accuracy: 0.8793 - val_loss: 0.3258 - val_accuracy: 0.8604\n",
      "Epoch 3/20\n",
      "229/229 [==============================] - 2s 8ms/step - loss: 0.2140 - accuracy: 0.9164 - val_loss: 0.3504 - val_accuracy: 0.8549\n",
      "Epoch 4/20\n",
      "229/229 [==============================] - 2s 8ms/step - loss: 0.1324 - accuracy: 0.9538 - val_loss: 0.4215 - val_accuracy: 0.8472\n",
      "Epoch 5/20\n",
      "229/229 [==============================] - 2s 8ms/step - loss: 0.0798 - accuracy: 0.9735 - val_loss: 0.4978 - val_accuracy: 0.8457\n",
      "Epoch 6/20\n",
      "229/229 [==============================] - 2s 8ms/step - loss: 0.0504 - accuracy: 0.9842 - val_loss: 0.5913 - val_accuracy: 0.8405\n",
      "Epoch 7/20\n",
      "229/229 [==============================] - 2s 8ms/step - loss: 0.0353 - accuracy: 0.9892 - val_loss: 0.6537 - val_accuracy: 0.8411\n",
      "Epoch 8/20\n",
      "229/229 [==============================] - 2s 8ms/step - loss: 0.0261 - accuracy: 0.9916 - val_loss: 0.7181 - val_accuracy: 0.8394\n",
      "Epoch 9/20\n",
      "229/229 [==============================] - 2s 8ms/step - loss: 0.0234 - accuracy: 0.9923 - val_loss: 0.8185 - val_accuracy: 0.8353\n",
      "Epoch 10/20\n",
      "229/229 [==============================] - 2s 8ms/step - loss: 0.0229 - accuracy: 0.9921 - val_loss: 0.8624 - val_accuracy: 0.8333\n",
      "Epoch 11/20\n",
      "229/229 [==============================] - 2s 8ms/step - loss: 0.0284 - accuracy: 0.9900 - val_loss: 0.8130 - val_accuracy: 0.8349\n",
      "Epoch 12/20\n",
      "229/229 [==============================] - 2s 8ms/step - loss: 0.0301 - accuracy: 0.9891 - val_loss: 0.8637 - val_accuracy: 0.8336\n",
      "Epoch 13/20\n",
      "229/229 [==============================] - 2s 8ms/step - loss: 0.0247 - accuracy: 0.9910 - val_loss: 0.9023 - val_accuracy: 0.8324\n",
      "Epoch 14/20\n",
      "229/229 [==============================] - 2s 8ms/step - loss: 0.0185 - accuracy: 0.9934 - val_loss: 0.9615 - val_accuracy: 0.8352\n",
      "Epoch 15/20\n",
      "229/229 [==============================] - 2s 8ms/step - loss: 0.0135 - accuracy: 0.9953 - val_loss: 0.9851 - val_accuracy: 0.8373\n",
      "Epoch 16/20\n",
      "229/229 [==============================] - 2s 8ms/step - loss: 0.0109 - accuracy: 0.9961 - val_loss: 1.0653 - val_accuracy: 0.8338\n",
      "Epoch 17/20\n",
      "229/229 [==============================] - 2s 8ms/step - loss: 0.0096 - accuracy: 0.9965 - val_loss: 1.0742 - val_accuracy: 0.8357\n",
      "Epoch 18/20\n",
      "229/229 [==============================] - 2s 8ms/step - loss: 0.0089 - accuracy: 0.9966 - val_loss: 1.0960 - val_accuracy: 0.8347\n",
      "Epoch 19/20\n",
      "229/229 [==============================] - 2s 8ms/step - loss: 0.0103 - accuracy: 0.9961 - val_loss: 1.1487 - val_accuracy: 0.8316\n",
      "Epoch 20/20\n",
      "229/229 [==============================] - 2s 8ms/step - loss: 0.0199 - accuracy: 0.9928 - val_loss: 1.0898 - val_accuracy: 0.8298\n",
      "1537/1537 - 2s - loss: 1.1485 - accuracy: 0.8224\n",
      "1-D CNN모델 [1.1484986543655396, 0.8224260807037354]\n"
     ]
    }
   ],
   "source": [
    "model2.compile(optimizer='adam',\n",
    "              loss='binary_crossentropy',\n",
    "              metrics=['accuracy'])\n",
    "              \n",
    "epochs=20 # 몇 epoch를 훈련하면 좋을지 결과를 보면서 바꾸어 봅시다. \n",
    "\n",
    "history2 = model2.fit(partial_X_train,\n",
    "                    partial_y_train,\n",
    "                    epochs=epochs,\n",
    "                    batch_size=512,\n",
    "                    validation_data=(X_val, y_val),\n",
    "                    verbose=1)\n",
    "\n",
    "result = model2.evaluate(X_test,  y_test, verbose=2)\n",
    "\n",
    "print(\"1-D CNN모델\",result)"
   ]
  },
  {
   "cell_type": "markdown",
   "id": "a5ffc851",
   "metadata": {},
   "source": [
    "#### (3) GlobalMaxPooling1D"
   ]
  },
  {
   "cell_type": "code",
   "execution_count": 15,
   "id": "11e759b5",
   "metadata": {},
   "outputs": [
    {
     "name": "stdout",
     "output_type": "stream",
     "text": [
      "Epoch 1/20\n",
      "229/229 [==============================] - 2s 6ms/step - loss: 0.4480 - accuracy: 0.8079 - val_loss: 0.3402 - val_accuracy: 0.8493\n",
      "Epoch 2/20\n",
      "229/229 [==============================] - 1s 5ms/step - loss: 0.3051 - accuracy: 0.8713 - val_loss: 0.3328 - val_accuracy: 0.8550\n",
      "Epoch 3/20\n",
      "229/229 [==============================] - 1s 5ms/step - loss: 0.2556 - accuracy: 0.8969 - val_loss: 0.3415 - val_accuracy: 0.8557\n",
      "Epoch 4/20\n",
      "229/229 [==============================] - 1s 5ms/step - loss: 0.2104 - accuracy: 0.9188 - val_loss: 0.3583 - val_accuracy: 0.8561\n",
      "Epoch 5/20\n",
      "229/229 [==============================] - 1s 5ms/step - loss: 0.1628 - accuracy: 0.9421 - val_loss: 0.3893 - val_accuracy: 0.8512\n",
      "Epoch 6/20\n",
      "229/229 [==============================] - 1s 5ms/step - loss: 0.1169 - accuracy: 0.9630 - val_loss: 0.4223 - val_accuracy: 0.8506\n",
      "Epoch 7/20\n",
      "229/229 [==============================] - 1s 5ms/step - loss: 0.0780 - accuracy: 0.9780 - val_loss: 0.4670 - val_accuracy: 0.8482\n",
      "Epoch 8/20\n",
      "229/229 [==============================] - 1s 5ms/step - loss: 0.0500 - accuracy: 0.9876 - val_loss: 0.5118 - val_accuracy: 0.8463\n",
      "Epoch 9/20\n",
      "229/229 [==============================] - 1s 5ms/step - loss: 0.0330 - accuracy: 0.9922 - val_loss: 0.5512 - val_accuracy: 0.8470\n",
      "Epoch 10/20\n",
      "229/229 [==============================] - 1s 5ms/step - loss: 0.0224 - accuracy: 0.9945 - val_loss: 0.5871 - val_accuracy: 0.8473\n",
      "Epoch 11/20\n",
      "229/229 [==============================] - 1s 5ms/step - loss: 0.0166 - accuracy: 0.9957 - val_loss: 0.6238 - val_accuracy: 0.8446\n",
      "Epoch 12/20\n",
      "229/229 [==============================] - 1s 5ms/step - loss: 0.0134 - accuracy: 0.9962 - val_loss: 0.6486 - val_accuracy: 0.8466\n",
      "Epoch 13/20\n",
      "229/229 [==============================] - 1s 5ms/step - loss: 0.0113 - accuracy: 0.9964 - val_loss: 0.6734 - val_accuracy: 0.8456\n",
      "Epoch 14/20\n",
      "229/229 [==============================] - 1s 5ms/step - loss: 0.0099 - accuracy: 0.9966 - val_loss: 0.6920 - val_accuracy: 0.8457\n",
      "Epoch 15/20\n",
      "229/229 [==============================] - 1s 5ms/step - loss: 0.0086 - accuracy: 0.9969 - val_loss: 0.7175 - val_accuracy: 0.8446\n",
      "Epoch 16/20\n",
      "229/229 [==============================] - 1s 5ms/step - loss: 0.0078 - accuracy: 0.9970 - val_loss: 0.7362 - val_accuracy: 0.8453\n",
      "Epoch 17/20\n",
      "229/229 [==============================] - 1s 5ms/step - loss: 0.0074 - accuracy: 0.9970 - val_loss: 0.7546 - val_accuracy: 0.8457\n",
      "Epoch 18/20\n",
      "229/229 [==============================] - 1s 5ms/step - loss: 0.0071 - accuracy: 0.9969 - val_loss: 0.7705 - val_accuracy: 0.8451\n",
      "Epoch 19/20\n",
      "229/229 [==============================] - 1s 5ms/step - loss: 0.0067 - accuracy: 0.9970 - val_loss: 0.7949 - val_accuracy: 0.8418\n",
      "Epoch 20/20\n",
      "229/229 [==============================] - 1s 5ms/step - loss: 0.0066 - accuracy: 0.9971 - val_loss: 0.8091 - val_accuracy: 0.8434\n",
      "1537/1537 - 2s - loss: 0.8243 - accuracy: 0.8389\n",
      "GlobalMaxPooling1D()모델 [0.8242778778076172, 0.8388632535934448]\n"
     ]
    }
   ],
   "source": [
    "model3.compile(optimizer='adam',\n",
    "              loss='binary_crossentropy',\n",
    "              metrics=['accuracy'])\n",
    "              \n",
    "epochs=20 # 몇 epoch를 훈련하면 좋을지 결과를 보면서 바꾸어 봅시다. \n",
    "\n",
    "history3 = model3.fit(partial_X_train,\n",
    "                    partial_y_train,\n",
    "                    epochs=epochs,\n",
    "                    batch_size=512,\n",
    "                    validation_data=(X_val, y_val),\n",
    "                    verbose=1)\n",
    "\n",
    "result = model3.evaluate(X_test,  y_test, verbose=2)\n",
    "\n",
    "print(\"GlobalMaxPooling1D()모델\",result)"
   ]
  },
  {
   "cell_type": "markdown",
   "id": "43ea69ee",
   "metadata": {},
   "source": [
    "(1) RNN\n",
    "loss: 0.8855 - accuracy: 0.8354\n",
    "\n",
    "(2) 1-D CNN\n",
    "loss: 1.1485 - accuracy: 0.8224\n",
    "\n",
    "(3) GlobalMaxPoolinig1D\n",
    "loss: 0.8243 - accuracy: 0.8389\n",
    "\n",
    "#### GlobalMaxPooling1D 의 accuracy가 가장 높다."
   ]
  },
  {
   "cell_type": "markdown",
   "id": "28c4b3e7",
   "metadata": {},
   "source": [
    "### 6. Loss, Accuracy 그래프 시각화"
   ]
  },
  {
   "cell_type": "markdown",
   "id": "740c8757",
   "metadata": {},
   "source": [
    "#### (1) RNN"
   ]
  },
  {
   "cell_type": "code",
   "execution_count": 16,
   "id": "007f37a0",
   "metadata": {},
   "outputs": [
    {
     "data": {
      "image/png": "[encoded data removed]",
      "text/plain": [
       "<Figure size 432x288 with 1 Axes>"
      ]
     },
     "metadata": {
      "needs_background": "light"
     },
     "output_type": "display_data"
    },
    {
     "data": {
      "image/png": "[encoded data removed]",
      "text/plain": [
       "<Figure size 432x288 with 1 Axes>"
      ]
     },
     "metadata": {
      "needs_background": "light"
     },
     "output_type": "display_data"
    }
   ],
   "source": [
    "import matplotlib.pyplot as plt\n",
    "\n",
    "history_dict1 = history1.history\n",
    "acc = history_dict1['accuracy']\n",
    "val_acc = history_dict1['val_accuracy']\n",
    "loss = history_dict1['loss']\n",
    "val_loss = history_dict1['val_loss']\n",
    "\n",
    "epochs = range(1, len(acc) + 1)\n",
    "\n",
    "# \"bo\"는 \"파란색 점\"입니다\n",
    "plt.plot(epochs, loss, 'bo', label='Training loss')\n",
    "# b는 \"파란 실선\"입니다\n",
    "plt.plot(epochs, val_loss, 'b', label='Validation loss')\n",
    "plt.title('RNN Training and validation loss')\n",
    "plt.xlabel('Epochs')\n",
    "plt.ylabel('Loss')\n",
    "plt.legend()\n",
    "\n",
    "plt.show()\n",
    "\n",
    "\n",
    "plt.plot(epochs, acc, 'bo', label='Training acc')\n",
    "plt.plot(epochs, val_acc, 'b', label='Validation acc')\n",
    "plt.title('RNN Training and validation accuracy')\n",
    "plt.xlabel('Epochs')\n",
    "plt.ylabel('Accuracy')\n",
    "plt.legend()\n",
    "\n",
    "plt.show()"
   ]
  },
  {
   "cell_type": "markdown",
   "id": "0a536b29",
   "metadata": {},
   "source": [
    "#### (2) 1-D CNN"
   ]
  },
  {
   "cell_type": "code",
   "execution_count": 17,
   "id": "8ff3b0f3",
   "metadata": {},
   "outputs": [
    {
     "data": {
      "image/png": "[encoded data removed]",
      "text/plain": [
       "<Figure size 432x288 with 1 Axes>"
      ]
     },
     "metadata": {
      "needs_background": "light"
     },
     "output_type": "display_data"
    },
    {
     "data": {
      "image/png": "[encoded data removed]",
      "text/plain": [
       "<Figure size 432x288 with 1 Axes>"
      ]
     },
     "metadata": {
      "needs_background": "light"
     },
     "output_type": "display_data"
    }
   ],
   "source": [
    "import matplotlib.pyplot as plt\n",
    "\n",
    "history_dict2 = history2.history\n",
    "acc = history_dict2['accuracy']\n",
    "val_acc = history_dict1['val_accuracy']\n",
    "loss = history_dict2['loss']\n",
    "val_loss = history_dict2['val_loss']\n",
    "\n",
    "epochs = range(1, len(acc) + 1)\n",
    "\n",
    "# \"bo\"는 \"파란색 점\"입니다\n",
    "plt.plot(epochs, loss, 'bo', label='Training loss')\n",
    "# b는 \"파란 실선\"입니다\n",
    "plt.plot(epochs, val_loss, 'b', label='Validation loss')\n",
    "plt.title('1-D CNN Training and validation loss')\n",
    "plt.xlabel('Epochs')\n",
    "plt.ylabel('Loss')\n",
    "plt.legend()\n",
    "\n",
    "plt.show()\n",
    "\n",
    "\n",
    "plt.plot(epochs, acc, 'bo', label='Training acc')\n",
    "plt.plot(epochs, val_acc, 'b', label='Validation acc')\n",
    "plt.title('1-D CNN Training and validation accuracy')\n",
    "plt.xlabel('Epochs')\n",
    "plt.ylabel('Accuracy')\n",
    "plt.legend()\n",
    "\n",
    "plt.show()"
   ]
  },
  {
   "cell_type": "markdown",
   "id": "02aa6724",
   "metadata": {},
   "source": [
    "#### (3)GlobalMaxPooling1D"
   ]
  },
  {
   "cell_type": "code",
   "execution_count": 18,
   "id": "83a00ed0",
   "metadata": {},
   "outputs": [
    {
     "data": {
      "image/png": "[encoded data removed]",
      "text/plain": [
       "<Figure size 432x288 with 1 Axes>"
      ]
     },
     "metadata": {
      "needs_background": "light"
     },
     "output_type": "display_data"
    },
    {
     "data": {
      "image/png": "[encoded data removed]",
      "text/plain": [
       "<Figure size 432x288 with 1 Axes>"
      ]
     },
     "metadata": {
      "needs_background": "light"
     },
     "output_type": "display_data"
    }
   ],
   "source": [
    "import matplotlib.pyplot as plt\n",
    "\n",
    "history_dict3 = history1.history\n",
    "acc = history_dict3['accuracy']\n",
    "val_acc = history_dict3['val_accuracy']\n",
    "loss = history_dict3['loss']\n",
    "val_loss = history_dict1['val_loss']\n",
    "\n",
    "epochs = range(1, len(acc) + 1)\n",
    "\n",
    "# \"bo\"는 \"파란색 점\"입니다\n",
    "plt.plot(epochs, loss, 'bo', label='Training loss')\n",
    "# b는 \"파란 실선\"입니다\n",
    "plt.plot(epochs, val_loss, 'b', label='Validation loss')\n",
    "plt.title('GlobalMaxPooling1D Training and validation loss')\n",
    "plt.xlabel('Epochs')\n",
    "plt.ylabel('Loss')\n",
    "plt.legend()\n",
    "\n",
    "plt.show()\n",
    "\n",
    "\n",
    "plt.plot(epochs, acc, 'bo', label='Training acc')\n",
    "plt.plot(epochs, val_acc, 'b', label='Validation acc')\n",
    "plt.title('GlobalMaxPooling1D Training and validation accuracy')\n",
    "plt.xlabel('Epochs')\n",
    "plt.ylabel('Accuracy')\n",
    "plt.legend()\n",
    "\n",
    "plt.show()"
   ]
  },
  {
   "cell_type": "markdown",
   "id": "c12b0978",
   "metadata": {},
   "source": [
    "### 7. 학습된 Embedding 레이어 분석"
   ]
  },
  {
   "cell_type": "markdown",
   "id": "c858bb6e",
   "metadata": {},
   "source": [
    "#### GlobalMaxPooling1D에 대해서 진행"
   ]
  },
  {
   "cell_type": "code",
   "execution_count": 19,
   "id": "cb0e073c",
   "metadata": {},
   "outputs": [
    {
     "name": "stdout",
     "output_type": "stream",
     "text": [
      "(10000, 300)\n"
     ]
    },
    {
     "data": {
      "text/plain": [
       "[('소름', 0.35923391580581665),\n",
       " ('입니다', 0.34828412532806396),\n",
       " ('간지', 0.32339707016944885),\n",
       " ('공연', 0.3181781768798828),\n",
       " ('꿈', 0.31618058681488037),\n",
       " ('봤', 0.31129175424575806),\n",
       " ('굉장히', 0.3103622496128082),\n",
       " ('무조건', 0.30893954634666443),\n",
       " ('단어', 0.30806320905685425),\n",
       " ('강동원', 0.3049771785736084)]"
      ]
     },
     "execution_count": 19,
     "metadata": {},
     "output_type": "execute_result"
    }
   ],
   "source": [
    "embedding_layer = model3.layers[0]\n",
    "weights = embedding_layer.get_weights()[0]\n",
    "print(weights.shape)\n",
    "\n",
    "# 학습한 Embedding 파라미터를 파일에 써서 저장함\n",
    "word2vec_file_path = os.getenv('HOME')+'/aiffel/sentiment_classification/data/GlobalMaxPooling1Dword2vec.txt'\n",
    "f = open(word2vec_file_path, 'w')\n",
    "f.write('{} {}\\n'.format(vocab_size-4, word_vector_dim))\n",
    "\n",
    "# 단어 개수(에서 특수문자 4개는 제외하고)만큼의 워드 벡터를 파일에 기록\n",
    "vectors = model3.get_weights()[0]\n",
    "for i in range(4,vocab_size):\n",
    "    f.write('{} {}\\n'.format(index_to_word[i], ' '.join(map(str, list(vectors[i, :])))))\n",
    "f.close()\n",
    "\n",
    "word_vectors = Word2VecKeyedVectors.load_word2vec_format(word2vec_file_path, binary=False)\n",
    "# '희망'이란 단어에 관한 유사도 결과\n",
    "word_vectors.similar_by_word(\"희망\")"
   ]
  },
  {
   "cell_type": "markdown",
   "id": "0f694e5a",
   "metadata": {},
   "source": [
    "유사하다고 보기 힘든 결과."
   ]
  },
  {
   "cell_type": "markdown",
   "id": "e806e221",
   "metadata": {},
   "source": [
    "### 8. 한국어 Word2Vec 임베딩 활용하여 성능 개선"
   ]
  },
  {
   "cell_type": "code",
   "execution_count": 20,
   "id": "c1b535db",
   "metadata": {},
   "outputs": [
    {
     "name": "stderr",
     "output_type": "stream",
     "text": [
      "/tmp/ipykernel_5620/1930576273.py:4: DeprecationWarning: Call to deprecated `similar_by_word` (Method will be removed in 4.0.0, use self.wv.similar_by_word() instead).\n",
      "  kovec.similar_by_word(\"희망\")\n"
     ]
    },
    {
     "data": {
      "text/plain": [
       "[('열망', 0.571174144744873),\n",
       " ('행복', 0.5318456888198853),\n",
       " ('소망', 0.5299249887466431),\n",
       " ('염원', 0.5261855721473694),\n",
       " ('기쁨', 0.5192784070968628),\n",
       " ('갈망', 0.5077978372573853),\n",
       " ('기대', 0.49611741304397583),\n",
       " ('꿈', 0.49124279618263245),\n",
       " ('열정', 0.4850333631038666),\n",
       " ('약속', 0.48367926478385925)]"
      ]
     },
     "execution_count": 20,
     "metadata": {},
     "output_type": "execute_result"
    }
   ],
   "source": [
    "from gensim.models import Word2Vec\n",
    "kovec_file_path = os.getenv('HOME')+'/aiffel/sentiment_classification/data/ko.bin'\n",
    "kovec = Word2Vec.load(kovec_file_path)\n",
    "kovec.similar_by_word(\"희망\")"
   ]
  },
  {
   "cell_type": "code",
   "execution_count": 21,
   "id": "8d62d59a",
   "metadata": {},
   "outputs": [
    {
     "name": "stderr",
     "output_type": "stream",
     "text": [
      "/tmp/ipykernel_5620/3094502689.py:8: DeprecationWarning: Call to deprecated `__contains__` (Method will be removed in 4.0.0, use self.wv.__contains__() instead).\n",
      "  if index_to_word[i] in kovec:\n",
      "/tmp/ipykernel_5620/3094502689.py:9: DeprecationWarning: Call to deprecated `__getitem__` (Method will be removed in 4.0.0, use self.wv.__getitem__() instead).\n",
      "  embedding_matrix[i] = kovec[index_to_word[i]]\n"
     ]
    }
   ],
   "source": [
    "vocab_size = 10000    # 어휘 사전의 크기입니다(10,000개의 단어)\n",
    "word_vector_dim = 200  # 워드 벡터의 차원수 (변경가능한 하이퍼파라미터)\n",
    "\n",
    "embedding_matrix = np.random.rand(vocab_size, word_vector_dim)\n",
    "\n",
    "# embedding_matrix에 Word2Vec 워드벡터를 단어 하나씩마다 차례차례 카피\n",
    "for i in range(4,vocab_size):\n",
    "    if index_to_word[i] in kovec:\n",
    "        embedding_matrix[i] = kovec[index_to_word[i]]"
   ]
  },
  {
   "cell_type": "code",
   "execution_count": 22,
   "id": "0a1628b7",
   "metadata": {},
   "outputs": [
    {
     "name": "stdout",
     "output_type": "stream",
     "text": [
      "Model: \"sequential_3\"\n",
      "_________________________________________________________________\n",
      "Layer (type)                 Output Shape              Param #   \n",
      "=================================================================\n",
      "embedding_3 (Embedding)      (None, 41, 200)           2000000   \n",
      "_________________________________________________________________\n",
      "global_max_pooling1d_2 (Glob (None, 200)               0         \n",
      "_________________________________________________________________\n",
      "dense_6 (Dense)              (None, 8)                 1608      \n",
      "_________________________________________________________________\n",
      "dense_7 (Dense)              (None, 1)                 9         \n",
      "=================================================================\n",
      "Total params: 2,001,617\n",
      "Trainable params: 2,001,617\n",
      "Non-trainable params: 0\n",
      "_________________________________________________________________\n"
     ]
    }
   ],
   "source": [
    "from tensorflow.keras.initializers import Constant\n",
    "\n",
    "vocab_size = 10000    # 어휘 사전의 크기입니다(10,000개의 단어)\n",
    "word_vector_dim = 200  # 워드 벡터의 차원수 (변경가능한 하이퍼파라미터)\n",
    "\n",
    "# 모델 구성\n",
    "model = keras.Sequential()\n",
    "model.add(keras.layers.Embedding(vocab_size, \n",
    "                                 word_vector_dim, \n",
    "                                 embeddings_initializer=Constant(embedding_matrix),  # 카피한 임베딩을 활용\n",
    "                                 input_length=maxlen, \n",
    "                                 trainable=True))   # trainable을 True로 주면 Fine-tuning\n",
    "model.add(keras.layers.GlobalMaxPooling1D())\n",
    "model.add(keras.layers.Dense(8, activation='relu'))\n",
    "model.add(keras.layers.Dense(1, activation='sigmoid')) \n",
    "\n",
    "model.summary()"
   ]
  },
  {
   "cell_type": "code",
   "execution_count": 24,
   "id": "94846307",
   "metadata": {},
   "outputs": [
    {
     "name": "stdout",
     "output_type": "stream",
     "text": [
      "Epoch 1/10\n",
      "1954/1954 [==============================] - 7s 4ms/step - loss: 0.3507 - accuracy: 0.8470 - val_loss: 0.4023 - val_accuracy: 0.8131\n",
      "Epoch 2/10\n",
      "1954/1954 [==============================] - 7s 3ms/step - loss: 0.3266 - accuracy: 0.8600 - val_loss: 0.3814 - val_accuracy: 0.8296\n",
      "Epoch 3/10\n",
      "1954/1954 [==============================] - 7s 3ms/step - loss: 0.3015 - accuracy: 0.8719 - val_loss: 0.3901 - val_accuracy: 0.8244\n",
      "Epoch 4/10\n",
      "1954/1954 [==============================] - 7s 3ms/step - loss: 0.2808 - accuracy: 0.8833 - val_loss: 0.3875 - val_accuracy: 0.8309\n",
      "Epoch 5/10\n",
      "1954/1954 [==============================] - 7s 3ms/step - loss: 0.2604 - accuracy: 0.8940 - val_loss: 0.4082 - val_accuracy: 0.8300\n",
      "Epoch 6/10\n",
      "1954/1954 [==============================] - 7s 3ms/step - loss: 0.2404 - accuracy: 0.9035 - val_loss: 0.4057 - val_accuracy: 0.8281\n",
      "Epoch 7/10\n",
      "1954/1954 [==============================] - 7s 3ms/step - loss: 0.2210 - accuracy: 0.9129 - val_loss: 0.4179 - val_accuracy: 0.8324\n",
      "Epoch 8/10\n",
      "1954/1954 [==============================] - 7s 3ms/step - loss: 0.2025 - accuracy: 0.9214 - val_loss: 0.4329 - val_accuracy: 0.8291\n",
      "Epoch 9/10\n",
      "1954/1954 [==============================] - 7s 3ms/step - loss: 0.1861 - accuracy: 0.9285 - val_loss: 0.4868 - val_accuracy: 0.8253\n",
      "Epoch 10/10\n",
      "1954/1954 [==============================] - 7s 3ms/step - loss: 0.1695 - accuracy: 0.9354 - val_loss: 0.4751 - val_accuracy: 0.8276\n"
     ]
    }
   ],
   "source": [
    "# 학습의 진행\n",
    "model.compile(optimizer='adam',\n",
    "              loss='binary_crossentropy',\n",
    "              metrics=['accuracy'])\n",
    "              \n",
    "epochs=15\n",
    "\n",
    "history = model.fit(partial_X_train,\n",
    "                    partial_y_train,\n",
    "                    epochs=epochs,\n",
    "                    batch_size=60,\n",
    "                    validation_data=(X_val, y_val),\n",
    "                    verbose=1)"
   ]
  },
  {
   "cell_type": "code",
   "execution_count": 25,
   "id": "da36c0b9",
   "metadata": {},
   "outputs": [
    {
     "name": "stdout",
     "output_type": "stream",
     "text": [
      "1537/1537 - 2s - loss: 0.4854 - accuracy: 0.8256\n",
      "[0.48542773723602295, 0.8255792856216431]\n"
     ]
    }
   ],
   "source": [
    "# 테스트셋을 통한 모델 평가\n",
    "results = model.evaluate(X_test,  y_test, verbose=2)\n",
    "\n",
    "print(results)"
   ]
  },
  {
   "cell_type": "markdown",
   "id": "559f02a3",
   "metadata": {},
   "source": [
    "85% 실패!"
   ]
  }
 ],
 "metadata": {
  "kernelspec": {
   "display_name": "Python 3 (ipykernel)",
   "language": "python",
   "name": "python3"
  },
  "language_info": {
   "codemirror_mode": {
    "name": "ipython",
    "version": 3
   },
   "file_extension": ".py",
   "mimetype": "text/x-python",
   "name": "python",
   "nbconvert_exporter": "python",
   "pygments_lexer": "ipython3",
   "version": "3.9.7"
  }
 },
 "nbformat": 4,
 "nbformat_minor": 5
}
